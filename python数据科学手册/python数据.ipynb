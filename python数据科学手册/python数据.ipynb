{
 "cells": [
  {
   "cell_type": "markdown",
   "metadata": {},
   "source": [
    "# python数据入门"
   ]
  },
  {
   "cell_type": "markdown",
   "metadata": {},
   "source": [
    "python变量不仅包含他们的值，还包括关于值的额外信息。例如整型值："
   ]
  },
  {
   "cell_type": "code",
   "execution_count": 1,
   "metadata": {},
   "outputs": [],
   "source": [
    "x = 1000"
   ]
  },
  {
   "cell_type": "markdown",
   "metadata": {},
   "source": [
    "这里的`x`并不是一个类似c语言中的整型，而是一个指针，指向一个c语言的复合结构体，如下所示："
   ]
  },
  {
   "cell_type": "markdown",
   "metadata": {},
   "source": [
    "```c\n",
    "struct_longobject {\n",
    "    long ob_refcnt;\n",
    "    pyTypeObject *ob_type;\n",
    "    size_t ob_size;\n",
    "    long ob_digit[1];\n",
    "};\n",
    "```"
   ]
  },
  {
   "cell_type": "markdown",
   "metadata": {},
   "source": [
    "- ob_refcnt: 是一个引用计数，它帮助Python默默地处理内存的分配和回收；\n",
    "- ob_type: 将变量的类型编码\n",
    "- ob_size: 指定数据成员的大小；\n",
    "- ob_digit: 变量表示的实际整型值；"
   ]
  }
 ],
 "metadata": {
  "kernelspec": {
   "display_name": "Python 3",
   "language": "python",
   "name": "python3"
  },
  "language_info": {
   "codemirror_mode": {
    "name": "ipython",
    "version": 3
   },
   "file_extension": ".py",
   "mimetype": "text/x-python",
   "name": "python",
   "nbconvert_exporter": "python",
   "pygments_lexer": "ipython3",
   "version": "3.7.4"
  }
 },
 "nbformat": 4,
 "nbformat_minor": 2
}
